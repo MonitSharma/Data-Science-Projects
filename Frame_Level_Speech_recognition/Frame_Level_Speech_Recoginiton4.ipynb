{
  "nbformat": 4,
  "nbformat_minor": 0,
  "metadata": {
    "accelerator": "GPU",
    "colab": {
      "name": "Frame_Level_Speech_Recoginiton4.ipynb",
      "provenance": [],
      "collapsed_sections": [],
      "toc_visible": true,
      "machine_shape": "hm"
    },
    "kernelspec": {
      "display_name": "Python 3",
      "language": "python",
      "name": "python3"
    },
    "language_info": {
      "codemirror_mode": {
        "name": "ipython",
        "version": 3
      },
      "file_extension": ".py",
      "mimetype": "text/x-python",
      "name": "python",
      "nbconvert_exporter": "python",
      "pygments_lexer": "ipython3",
      "version": "3.7.7"
    }
  },
  "cells": [
    {
      "cell_type": "markdown",
      "metadata": {
        "Collapsed": "false",
        "id": "g9n37Pf8isj2"
      },
      "source": [
        "# Frame Level Speech Recognition with Neural Networks"
      ]
    },
    {
      "cell_type": "markdown",
      "metadata": {
        "Collapsed": "false",
        "id": "LQapFrR021Dm"
      },
      "source": [
        "## Question for the Assesment\n",
        "In this coursework you will take your knowledge of feedforward neural networks and apply it to the task of speech recognition.\n",
        "\n",
        "You are provided a dataset of audio recordings (utterances) and their phoneme state (subphoneme) labels. The data comes from articles published in the Wall Street Journal (WSJ) that are read aloud and labelled using the original text. If you have not encountered speech data before or have not heard of phonemes or spectrograms, we will clarify these here:\n",
        "\n",
        "Phonems and Phoneme States\n",
        "As letters are the atomic elements of written language, phonemes are the atomic elements of speech. It is crucial for us to have a means to distiguish different sounds in speech that may or may not represent the same letter or combinations of letters in the written alphabet. For example, the words \"jet\" and \"ridge\" both contain the same sound and we refer to this elemental sound as the phoneme \"JH\". For this challenge we will consider 46 phonemes in the english language.\n",
        "\n",
        "[\"+BREATH+\", \"+COUGH+\", \"+NOISE+\", \"+SMACK+\", \"+UH+\", \"+UM+\", \"AA\", \"AE\", \"AH\", \"AO\", \"AW\", \"AY\", \"B\", \"CH\", \"D\", \"DH\", \"EH\", \"ER\", \"EY\", \"F\", \"G\", \"HH\", \"IH\", \"IY\", \"JH\", \"K\", \"L\", \"M\", \"N\", \"NG\", \"OW\", \"OY\", \"P\", \"R\", \"S\", \"SH\", \"SIL\", \"T\", \"TH\", \"UH\", \"UW\", \"V\", \"W\", \"Y\", \"Z\", \"ZH\"]\n",
        "\n",
        "A powerful technique in speech recognition is to model speech as a markov process with unobserved states. This model considers observed speech to be dependent on unobserved state transitions. We refer to these unobserved states as phoneme states or subphonemes. For each phoneme, there are 3 respective phoneme states. Therefore for our 46 phonemes, there exist 138 respective phoneme states.\n",
        "\n",
        "Hidden Markov Models (HMMs) estimate the parameters of this unobserved markov process (transition and emission probabilities) that maximize the likelihood of the observed speech data.\n",
        "\n",
        "Your task is to instead take a model-free approach and classify mel spectrogram frames using a neural network that takes a frame (plus optional context) and outputs class probabilities for all 138 phoneme states. Performance on the task will be measured by classification accuracy on a held-out set of labelled mel spectrogram frames. Training/dev labels are provided as integers [0-137].\n",
        "\n",
        "Representing Speech\n",
        "As a first step, the speech must be converted into a feature representation that can be fed into the network.\n",
        "\n",
        "In our representation, utterances have been converted to \"mel spectrograms\", which are pictorial representations that characterize how the frequency content of the signal varies with time. The frequency-domain of the audio signal provides more useful features for distinguishing phonemes.\n",
        "\n",
        "For a more intuitive understanding, consider attempting to determine which instruments are playing in an orchestra given an audio recording of a performance. By looking only at the amplitude of the signal of the orchestra over time, it is nearly impossible to distinguish one source from another. But if the signal is transformed into the frequency domain, we can use our knowledge that flutes produce higher frequency sounds and bassoons produce lower frequency sounds. In speech, a similar phenomenon is observed when the vocal tract produces sounds at varying frequencies.\n",
        "\n",
        "To convert the speech to a mel spectrogram, it is segmented into little \"frames\", each 25ms wide, where the \"stride\" between adjacent frames is 10ms. Thus we get 100 such frames per second of speech.\n",
        "\n",
        "From each frame, we compute a single \"mel spectral\" vector, where the components of the vector represent the (log) energy in the signal in different frequency bands. In the data we have given you, we have 40-dimensional mel-spectral vectors, i.e. we have computed energies in 40 frequency bands.\n",
        "\n",
        "Thus, we get 100 40-dimensional mel spectral (row) vectors per second of speech in the recording. Each one of these vectors is referred to as a frame. The details of how mel spectrograms are computed from speech is explained in the attached blog.\n",
        "\n",
        "Thus, for a T-second recording, the entire spectrogram is a 100T x 40 matrix, comprising 100T 40- dimensional vectors (at 100 vectors (frames) per second).\n",
        "\n",
        "The Training Data Comprises :\n",
        "\n",
        "Speech Recordings\n",
        "Frame Level Phoneme State labels\n",
        "The test data comprises\n",
        "\n",
        "Speech Recordings\n",
        "Phoneme state labels are not given\n",
        "Expected from Us\n",
        "Your job is to identify the phoneme state label for each frame in the test data set. It is important to note that utterances are of variable length. We are providing you code to load and parse the raw files into the expected format. For now we are only providing dev data files as the training file is very large.\n",
        "\n",
        "Dataset\n",
        "Feature File\n",
        "[train|dev|test].npy contain a numpy object array of shape [utterances]. Each utterance is a float32 ndarray of shape [time, frequency], where time is the length of the utterance. Frequency dimension is always 40 but time dimension is of variable length.\n",
        "\n",
        "Label Files\n",
        "[train|dev]_labels.npy contain a numpy object array of shape [utterances]. Each element in the array is an int32 array of shape [time] and provides the phoneme state label for each frame. There are 138 distinct labels [0-137], one for each subphoneme.\n",
        "\n",
        "You can downlaoad the dataset from here\n",
        "\n",
        "Implementation\n",
        "The dataset files are of nearly 8GB size, We can't load them directly to google colab notebook, instead we make use of Google Drive.\n",
        "\n",
        "Upload the files on Google Drive and make use of Drive feature of the google colaboratry, type the below code, It'll show you a link, Visit that link, give confirmation, copy the auth code and paste it in the dialog box that appears. It will let you access the files in your Google Drive"
      ]
    },
    {
      "cell_type": "code",
      "metadata": {
        "Collapsed": "false",
        "colab": {
          "base_uri": "https://localhost:8080/",
          "height": 34
        },
        "id": "_l3PgUp_1aKf",
        "outputId": "6610dd6a-f2d7-450c-9f24-927c23a84280"
      },
      "source": [
        "from google.colab import drive\n",
        "drive.mount('/content/gdrive')"
      ],
      "execution_count": null,
      "outputs": [
        {
          "output_type": "stream",
          "text": [
            "Mounted at /content/gdrive\n"
          ],
          "name": "stdout"
        }
      ]
    },
    {
      "cell_type": "markdown",
      "metadata": {
        "Collapsed": "false",
        "id": "-dORACFd26KL"
      },
      "source": [
        "## Loading all the Data"
      ]
    },
    {
      "cell_type": "markdown",
      "metadata": {
        "Collapsed": "false",
        "id": "jtQ-chOu59uw"
      },
      "source": [
        "Imports "
      ]
    },
    {
      "cell_type": "code",
      "metadata": {
        "Collapsed": "false",
        "id": "ptEFVD112alR"
      },
      "source": [
        "import numpy as np"
      ],
      "execution_count": null,
      "outputs": []
    },
    {
      "cell_type": "markdown",
      "metadata": {
        "Collapsed": "false",
        "id": "K5OcUhoz6Cml"
      },
      "source": [
        "Loading the data"
      ]
    },
    {
      "cell_type": "markdown",
      "metadata": {
        "Collapsed": "false",
        "id": "h-mNdysx8nMf"
      },
      "source": [
        "* **train.npy - training features**\n",
        "* [train|dev|test].npy contain a numpy object array of shape [utterances]. Each utterance is a float32 ndarray of shape [time, frequency], where time is the length of the utterance. Frequency dimension is always 13 but time dimension is of variable length."
      ]
    },
    {
      "cell_type": "code",
      "metadata": {
        "Collapsed": "false",
        "id": "-zvCC0mF5Aim"
      },
      "source": [
        "# loading the data file\n",
        "train_labels = np.load('/content/drive/My Drive/train_labels.npy',allow_pickle=True)  # Allow loading pickled object arrays stored in npy files.\n",
        "dev_train = np.load('/content/drive/My Drive/dev.npy',allow_pickle=True)              # Reasons for disallowing pickles include security\n",
        "dev_labels = np.load('/content/drive/My Drive/dev_labels.npy',allow_pickle=True)      # As loading pickled data can execute arbitrary code. \n",
        "test =  np.load('/content/drive/My Drive/test.npy',allow_pickle=True)                 # If pickles are disallowed, loading object arrays will fail."
      ],
      "execution_count": null,
      "outputs": []
    },
    {
      "cell_type": "code",
      "metadata": {
        "Collapsed": "false",
        "id": "uWCgFRuZ1Q9K"
      },
      "source": [
        "x = np.concatenate(train)"
      ],
      "execution_count": null,
      "outputs": []
    },
    {
      "cell_type": "markdown",
      "metadata": {
        "Collapsed": "false",
        "id": "ihcg1MPy9ANT"
      },
      "source": [
        "* **training labels dev.npy - development/validation features**\n",
        "* [train|dev]_labels.npy contain a numpy object array of shape [utterances]. Each element in the array is an int32 array of shape [time] and provides the phoneme state label for each frame. There are 346 distinct labels [0-345], one for each subphoneme."
      ]
    },
    {
      "cell_type": "code",
      "metadata": {
        "Collapsed": "false",
        "id": "mFZ-rJrU1Q9N"
      },
      "source": [
        "y = np.concatenate(train_labels)"
      ],
      "execution_count": null,
      "outputs": []
    },
    {
      "cell_type": "markdown",
      "metadata": {
        "Collapsed": "false",
        "id": "A1KbNRoUAMRi"
      },
      "source": [
        "* **dev.npy - development/validation features**\n",
        "* **dev_labels.npy - development/validation**"
      ]
    },
    {
      "cell_type": "markdown",
      "metadata": {
        "Collapsed": "false",
        "id": "UhTeavOZBrmx"
      },
      "source": [
        "**sample.csv - sample submission in correct format**"
      ]
    },
    {
      "cell_type": "code",
      "metadata": {
        "Collapsed": "false",
        "id": "tLYqWxwsAoek"
      },
      "source": [
        "import pandas as pd\n",
        "sample = pd.read_csv('sample/sample.csv')"
      ],
      "execution_count": null,
      "outputs": []
    },
    {
      "cell_type": "code",
      "metadata": {
        "Collapsed": "false",
        "id": "O7S9fwIp1Q9W"
      },
      "source": [
        "y_test = sample['label'].to_numpy()"
      ],
      "execution_count": null,
      "outputs": []
    },
    {
      "cell_type": "markdown",
      "metadata": {
        "Collapsed": "false",
        "id": "B60bhdSjBfev"
      },
      "source": [
        "## Setting up the Model"
      ]
    },
    {
      "cell_type": "code",
      "metadata": {
        "Collapsed": "false",
        "colab": {
          "base_uri": "https://localhost:8080/",
          "height": 68
        },
        "id": "NNuWOZ5K1Q9X",
        "outputId": "2a9fcf67-4ccf-4b5a-9e7e-eb411df2f675"
      },
      "source": [
        "!pip install torch"
      ],
      "execution_count": null,
      "outputs": [
        {
          "output_type": "stream",
          "text": [
            "Requirement already satisfied: torch in /usr/local/lib/python3.6/dist-packages (1.6.0+cu101)\n",
            "Requirement already satisfied: numpy in /usr/local/lib/python3.6/dist-packages (from torch) (1.18.5)\n",
            "Requirement already satisfied: future in /usr/local/lib/python3.6/dist-packages (from torch) (0.16.0)\n"
          ],
          "name": "stdout"
        }
      ]
    },
    {
      "cell_type": "code",
      "metadata": {
        "Collapsed": "false",
        "id": "KQun7LDcBP_e"
      },
      "source": [
        "import torch\n",
        "import torch.nn as nn\n",
        "import torch.nn.functional as F\n",
        "import matplotlib.pyplot as plt\n",
        "%matplotlib inline"
      ],
      "execution_count": null,
      "outputs": []
    },
    {
      "cell_type": "code",
      "metadata": {
        "Collapsed": "false",
        "id": "uIGtqEHd1Q9a"
      },
      "source": [
        "k = 20 # context size for utterance of size (A,13) a k of 5 makes the utterance (A + 2*5, 13)"
      ],
      "execution_count": null,
      "outputs": []
    },
    {
      "cell_type": "code",
      "metadata": {
        "Collapsed": "false",
        "id": "fS5nKm0jEf2S"
      },
      "source": [
        "class Model(nn.Module):\n",
        "\n",
        "    def __init__(self,in_features=13*(1 + 2*k),h1=2048,h2=2048,h3=1024*2,h4=1024,h5=900,h6=900,h7=800,\n",
        "                 h8=800,h9 = 800,h10=800,h11=800,h12=800,h13=800,h14=800,h15=800,out_features=346):\n",
        "        \n",
        "        # How many layers?\n",
        "        # Input layer (# of features) --> hidden layer 1 (number of neurons N) --> h2 (N) --> output (346 of classes)\n",
        "        super().__init__()\n",
        "        self.fc1 = nn.Linear(in_features,h1)\n",
        "        self.bn1 = nn.BatchNorm1d(num_features=h1,momentum=0.01)\n",
        "        self.fc2 = nn.Linear(h1,h2)\n",
        "        self.d2 =  nn.Dropout(0.25)\n",
        "        self.bn2 = nn.BatchNorm1d(num_features=h2,momentum=0.01)\n",
        "        self.fc3 = nn.Linear(h2,h3)\n",
        "        self.bn3 = nn.BatchNorm1d(num_features=h3,momentum=0.01)\n",
        "        self.d3 = nn.Dropout(0.4)\n",
        "        self.fc4 = nn.Linear(h3,h4)\n",
        "        self.bn4 = nn.BatchNorm1d(num_features=h4,momentum=0.01)\n",
        "        self.d4 = nn.Dropout(0.3)\n",
        "        self.fc5 = nn.Linear(h4,h5)\n",
        "        self.bn5 = nn.BatchNorm1d(num_features=h5,momentum=0.01)\n",
        "        self.d5 = nn.Dropout(0.25)\n",
        "        self.fc6 = nn.Linear(h5,h6)\n",
        "        self.bn6 = nn.BatchNorm1d(num_features=h6,momentum=0.01)\n",
        "        self.d6 = nn.Dropout(0.35)\n",
        "        \n",
        "        self.fc7 = nn.Linear(h6,h7)\n",
        "        self.bn7 = nn.BatchNorm1d(num_features=h7,momentum=0.01)\n",
        "        self.d7 = nn.Dropout(0.4)\n",
        "        \n",
        "        self.fc8 = nn.Linear(h7,h8)\n",
        "        self.bn8 = nn.BatchNorm1d(num_features=h8,momentum=0.01)\n",
        "        self.d8 = nn.Dropout(0.35)\n",
        "        \n",
        "        self.fc9 = nn.Linear(h8,h9)\n",
        "        self.bn9 = nn.BatchNorm1d(num_features=h9,momentum=0.01)\n",
        "        self.d9 = nn.Dropout(0.2)\n",
        "        \n",
        "        self.fc10 = nn.Linear(h9,h10)\n",
        "        self.bn10 = nn.BatchNorm1d(num_features=h10,momentum=0.01)\n",
        "        self.d10 = nn.Dropout(0.25)\n",
        "        \n",
        "        self.fc11 = nn.Linear(h10,h11)\n",
        "        self.bn11 = nn.BatchNorm1d(num_features=h11,momentum=0.01)\n",
        "        self.d11 = nn.Dropout(0.2)\n",
        "\n",
        "        self.fc12 = nn.Linear(h11,h12)\n",
        "        self.bn12 = nn.BatchNorm1d(num_features=h12,momentum=0.01)\n",
        "        self.d12 = nn.Dropout(0.2)\n",
        "\n",
        "        self.fc13 = nn.Linear(h12,h13)\n",
        "        self.bn13 = nn.BatchNorm1d(num_features=h13,momentum=0.01)\n",
        "        self.d13 = nn.Dropout(0.2)\n",
        "\n",
        "        self.fc14 = nn.Linear(h13,h14)\n",
        "        self.bn14 = nn.BatchNorm1d(num_features=h14,momentum=0.01)\n",
        "        self.d14 = nn.Dropout(0.2)\n",
        "\n",
        "        self.fc15 = nn.Linear(h14,h15)\n",
        "        self.bn15 = nn.BatchNorm1d(num_features=h15,momentum=0.01)\n",
        "        self.d15 = nn.Dropout(0.2)\n",
        "\n",
        "        self.out = nn.Linear(h15,out_features)\n",
        "  \n",
        "    def forward(self,x):\n",
        "        x = F.relu(self.bn1(self.fc1(x)))\n",
        "        x = F.relu(self.bn2(self.d2(self.fc2(x))))\n",
        "        x = F.relu(self.bn3(self.d3(self.fc3(x))))\n",
        "        x = F.relu(self.bn4(self.d4(self.fc4(x))))\n",
        "        x = F.relu(self.bn5(self.d5(self.fc5(x))))\n",
        "        x = F.relu(self.bn6(self.d6(self.fc6(x))))\n",
        "        x = F.relu(self.bn7(self.d7(self.fc7(x))))\n",
        "        x = F.relu(self.bn8(self.d8(self.fc8(x))))\n",
        "        x = F.relu(self.bn9(self.d9(self.fc9(x))))\n",
        "        x = F.relu(self.bn10(self.d10(self.fc10(x))))\n",
        "        x = F.relu(self.bn11(self.d11(self.fc11(x))))\n",
        "        x = F.relu(self.bn12(self.d12(self.fc12(x))))\n",
        "        x = F.relu(self.bn13(self.d13(self.fc13(x))))\n",
        "        x = F.relu(self.bn14(self.d14(self.fc14(x))))\n",
        "        x = F.relu(self.bn15(self.d15(self.fc15(x))))\n",
        "\n",
        "        x = self.out(x)\n",
        "        return x"
      ],
      "execution_count": null,
      "outputs": []
    },
    {
      "cell_type": "code",
      "metadata": {
        "Collapsed": "false",
        "id": "2s3tq8KtKnMI"
      },
      "source": [
        "seq_model = Model()"
      ],
      "execution_count": null,
      "outputs": []
    },
    {
      "cell_type": "markdown",
      "metadata": {
        "Collapsed": "false",
        "id": "eF1hOa5W1Q9d"
      },
      "source": [
        "## Working with Tensors "
      ]
    },
    {
      "cell_type": "code",
      "metadata": {
        "Collapsed": "false",
        "colab": {
          "base_uri": "https://localhost:8080/",
          "height": 122
        },
        "id": "powXNf9o1Q9d",
        "outputId": "6aad4109-2ce1-444b-feac-7959a55e2f24"
      },
      "source": [
        "!pip install torchvision"
      ],
      "execution_count": null,
      "outputs": [
        {
          "output_type": "stream",
          "text": [
            "Requirement already satisfied: torchvision in /usr/local/lib/python3.6/dist-packages (0.7.0+cu101)\n",
            "Requirement already satisfied: numpy in /usr/local/lib/python3.6/dist-packages (from torchvision) (1.18.5)\n",
            "Requirement already satisfied: torch==1.6.0 in /usr/local/lib/python3.6/dist-packages (from torchvision) (1.6.0+cu101)\n",
            "Requirement already satisfied: pillow>=4.1.1 in /usr/local/lib/python3.6/dist-packages (from torchvision) (7.0.0)\n",
            "Requirement already satisfied: future in /usr/local/lib/python3.6/dist-packages (from torch==1.6.0->torchvision) (0.16.0)\n"
          ],
          "name": "stdout"
        }
      ]
    },
    {
      "cell_type": "code",
      "metadata": {
        "Collapsed": "false",
        "id": "fvK1DBCT1Q9e"
      },
      "source": [
        "from __future__ import print_function, division\n",
        "import os\n",
        "from torch.utils.data import Dataset, DataLoader\n",
        "from torchvision import transforms, utils"
      ],
      "execution_count": null,
      "outputs": []
    },
    {
      "cell_type": "code",
      "metadata": {
        "Collapsed": "false",
        "id": "BMLW3F6m1Q9f"
      },
      "source": [
        "class My_Dataset(Dataset):\n",
        "    \n",
        "    def __init__(self,X,Y):\n",
        "        self.X = X\n",
        "        self.Y = Y\n",
        "        \n",
        "    def __len__(self):\n",
        "        return len(self.Y)\n",
        "    \n",
        "    def __getitem__(self,index):\n",
        "        if index > len(self.X) - (k + 1):\n",
        "            X = torch.Tensor(np.pad(self.X[index-k-1:].float(),pad_width=((0,(k  - len(self.X[index:].float()))),(0,0)),mode='reflect').flatten())\n",
        "        elif index <  k + 1:\n",
        "            X = torch.Tensor(np.pad(self.X[:index+k+1].float(),pad_width=((k  - index,0),(0,0)),mode='reflect').flatten())\n",
        "        else:\n",
        "            X = self.X[index-k:index+k+1].float().flatten()\n",
        "            \n",
        "        Y = self.Y[index].long()\n",
        "        return X,Y"
      ],
      "execution_count": null,
      "outputs": []
    },
    {
      "cell_type": "code",
      "metadata": {
        "Collapsed": "false",
        "id": "JUp8QxlM1Q9g"
      },
      "source": [
        "X_test = torch.Tensor(np.concatenate(test))\n",
        "y_test = torch.Tensor(y_test)"
      ],
      "execution_count": null,
      "outputs": []
    },
    {
      "cell_type": "code",
      "metadata": {
        "Collapsed": "false",
        "id": "UpR0syMw1Q9h"
      },
      "source": [
        "y_val = torch.Tensor(np.concatenate(dev_labels))\n",
        "x_val = torch.Tensor(np.concatenate(dev_train))"
      ],
      "execution_count": null,
      "outputs": []
    },
    {
      "cell_type": "code",
      "metadata": {
        "Collapsed": "false",
        "id": "xV6ggySy1Q9i"
      },
      "source": [
        "x = torch.Tensor(x)\n",
        "y = torch.Tensor(y)"
      ],
      "execution_count": null,
      "outputs": []
    },
    {
      "cell_type": "code",
      "metadata": {
        "Collapsed": "false",
        "id": "r4sVPXdU1Q9j"
      },
      "source": [
        "val_dataset = My_Dataset(x_val,y_val)"
      ],
      "execution_count": null,
      "outputs": []
    },
    {
      "cell_type": "code",
      "metadata": {
        "Collapsed": "false",
        "id": "kg3f3TS61Q9k"
      },
      "source": [
        "val_loader_args = dict(shuffle=False,batch_size=1024,num_workers=6,pin_memory=True)\n",
        "val_loader = DataLoader(val_dataset, **val_loader_args)"
      ],
      "execution_count": null,
      "outputs": []
    },
    {
      "cell_type": "code",
      "metadata": {
        "Collapsed": "false",
        "id": "1dN9pGe81Q9k"
      },
      "source": [
        "test_dataset = My_Dataset(X_test,y_test)"
      ],
      "execution_count": null,
      "outputs": []
    },
    {
      "cell_type": "code",
      "metadata": {
        "Collapsed": "false",
        "id": "dnEbJtlh1Q9m"
      },
      "source": [
        "test_loader_args = dict(shuffle=False,batch_size=1024,num_workers=6,pin_memory=True) \n",
        "test_loader = DataLoader(test_dataset, **test_loader_args)"
      ],
      "execution_count": null,
      "outputs": []
    },
    {
      "cell_type": "code",
      "metadata": {
        "Collapsed": "false",
        "id": "EURRfGAn1Q9m"
      },
      "source": [
        "train_dataset = My_Dataset(x,y)"
      ],
      "execution_count": null,
      "outputs": []
    },
    {
      "cell_type": "code",
      "metadata": {
        "Collapsed": "false",
        "id": "ETerP8Gd1Q9n"
      },
      "source": [
        "train_loader_args = dict(shuffle=True,batch_size=1024,num_workers=6,pin_memory=True,drop_last=True) \n",
        "train_loader = DataLoader(train_dataset, **train_loader_args)"
      ],
      "execution_count": null,
      "outputs": []
    },
    {
      "cell_type": "markdown",
      "metadata": {
        "Collapsed": "false",
        "id": "q_Ne45DqPi60"
      },
      "source": [
        "# Training the Model"
      ]
    },
    {
      "cell_type": "code",
      "metadata": {
        "Collapsed": "false",
        "colab": {
          "base_uri": "https://localhost:8080/",
          "height": 816
        },
        "id": "CLlp4GVp1Q9p",
        "outputId": "206499f7-60af-40bf-a904-8dc36f63e0e4"
      },
      "source": [
        "device = torch.device(\"cuda\")\n",
        "seq_model.to(device)"
      ],
      "execution_count": null,
      "outputs": [
        {
          "output_type": "execute_result",
          "data": {
            "text/plain": [
              "Model(\n",
              "  (fc1): Linear(in_features=585, out_features=4096, bias=True)\n",
              "  (bn1): BatchNorm1d(4096, eps=1e-05, momentum=0.01, affine=True, track_running_stats=True)\n",
              "  (fc2): Linear(in_features=4096, out_features=4096, bias=True)\n",
              "  (d2): Dropout(p=0.25, inplace=False)\n",
              "  (bn2): BatchNorm1d(4096, eps=1e-05, momentum=0.01, affine=True, track_running_stats=True)\n",
              "  (fc3): Linear(in_features=4096, out_features=2048, bias=True)\n",
              "  (bn3): BatchNorm1d(2048, eps=1e-05, momentum=0.01, affine=True, track_running_stats=True)\n",
              "  (d3): Dropout(p=0.4, inplace=False)\n",
              "  (fc4): Linear(in_features=2048, out_features=2048, bias=True)\n",
              "  (bn4): BatchNorm1d(2048, eps=1e-05, momentum=0.01, affine=True, track_running_stats=True)\n",
              "  (d4): Dropout(p=0.3, inplace=False)\n",
              "  (fc5): Linear(in_features=2048, out_features=2700, bias=True)\n",
              "  (bn5): BatchNorm1d(2700, eps=1e-05, momentum=0.01, affine=True, track_running_stats=True)\n",
              "  (d5): Dropout(p=0.25, inplace=False)\n",
              "  (fc6): Linear(in_features=2700, out_features=2700, bias=True)\n",
              "  (bn6): BatchNorm1d(2700, eps=1e-05, momentum=0.01, affine=True, track_running_stats=True)\n",
              "  (d6): Dropout(p=0.35, inplace=False)\n",
              "  (fc7): Linear(in_features=2700, out_features=2400, bias=True)\n",
              "  (bn7): BatchNorm1d(2400, eps=1e-05, momentum=0.01, affine=True, track_running_stats=True)\n",
              "  (d7): Dropout(p=0.4, inplace=False)\n",
              "  (fc8): Linear(in_features=2400, out_features=2400, bias=True)\n",
              "  (bn8): BatchNorm1d(2400, eps=1e-05, momentum=0.01, affine=True, track_running_stats=True)\n",
              "  (d8): Dropout(p=0.35, inplace=False)\n",
              "  (fc9): Linear(in_features=2400, out_features=2400, bias=True)\n",
              "  (bn9): BatchNorm1d(2400, eps=1e-05, momentum=0.01, affine=True, track_running_stats=True)\n",
              "  (d9): Dropout(p=0.2, inplace=False)\n",
              "  (fc10): Linear(in_features=2400, out_features=2400, bias=True)\n",
              "  (bn10): BatchNorm1d(2400, eps=1e-05, momentum=0.01, affine=True, track_running_stats=True)\n",
              "  (d10): Dropout(p=0.25, inplace=False)\n",
              "  (fc11): Linear(in_features=2400, out_features=1600, bias=True)\n",
              "  (bn11): BatchNorm1d(1600, eps=1e-05, momentum=0.01, affine=True, track_running_stats=True)\n",
              "  (d11): Dropout(p=0.2, inplace=False)\n",
              "  (fc12): Linear(in_features=1600, out_features=1600, bias=True)\n",
              "  (bn12): BatchNorm1d(1600, eps=1e-05, momentum=0.01, affine=True, track_running_stats=True)\n",
              "  (d12): Dropout(p=0.2, inplace=False)\n",
              "  (fc13): Linear(in_features=1600, out_features=1600, bias=True)\n",
              "  (bn13): BatchNorm1d(1600, eps=1e-05, momentum=0.01, affine=True, track_running_stats=True)\n",
              "  (d13): Dropout(p=0.2, inplace=False)\n",
              "  (fc14): Linear(in_features=1600, out_features=1600, bias=True)\n",
              "  (bn14): BatchNorm1d(1600, eps=1e-05, momentum=0.01, affine=True, track_running_stats=True)\n",
              "  (d14): Dropout(p=0.2, inplace=False)\n",
              "  (fc15): Linear(in_features=1600, out_features=1600, bias=True)\n",
              "  (bn15): BatchNorm1d(1600, eps=1e-05, momentum=0.01, affine=True, track_running_stats=True)\n",
              "  (d15): Dropout(p=0.2, inplace=False)\n",
              "  (out): Linear(in_features=1600, out_features=346, bias=True)\n",
              ")"
            ]
          },
          "metadata": {
            "tags": []
          },
          "execution_count": 46
        }
      ]
    },
    {
      "cell_type": "code",
      "metadata": {
        "Collapsed": "false",
        "colab": {
          "base_uri": "https://localhost:8080/",
          "height": 816
        },
        "id": "MMlcYxv-1Q9q",
        "outputId": "37e24626-01d8-4c2b-ec3e-f01ae0217b3c"
      },
      "source": [
        "seq_model.train()"
      ],
      "execution_count": null,
      "outputs": [
        {
          "output_type": "execute_result",
          "data": {
            "text/plain": [
              "Model(\n",
              "  (fc1): Linear(in_features=585, out_features=4096, bias=True)\n",
              "  (bn1): BatchNorm1d(4096, eps=1e-05, momentum=0.01, affine=True, track_running_stats=True)\n",
              "  (fc2): Linear(in_features=4096, out_features=4096, bias=True)\n",
              "  (d2): Dropout(p=0.25, inplace=False)\n",
              "  (bn2): BatchNorm1d(4096, eps=1e-05, momentum=0.01, affine=True, track_running_stats=True)\n",
              "  (fc3): Linear(in_features=4096, out_features=2048, bias=True)\n",
              "  (bn3): BatchNorm1d(2048, eps=1e-05, momentum=0.01, affine=True, track_running_stats=True)\n",
              "  (d3): Dropout(p=0.4, inplace=False)\n",
              "  (fc4): Linear(in_features=2048, out_features=2048, bias=True)\n",
              "  (bn4): BatchNorm1d(2048, eps=1e-05, momentum=0.01, affine=True, track_running_stats=True)\n",
              "  (d4): Dropout(p=0.3, inplace=False)\n",
              "  (fc5): Linear(in_features=2048, out_features=2700, bias=True)\n",
              "  (bn5): BatchNorm1d(2700, eps=1e-05, momentum=0.01, affine=True, track_running_stats=True)\n",
              "  (d5): Dropout(p=0.25, inplace=False)\n",
              "  (fc6): Linear(in_features=2700, out_features=2700, bias=True)\n",
              "  (bn6): BatchNorm1d(2700, eps=1e-05, momentum=0.01, affine=True, track_running_stats=True)\n",
              "  (d6): Dropout(p=0.35, inplace=False)\n",
              "  (fc7): Linear(in_features=2700, out_features=2400, bias=True)\n",
              "  (bn7): BatchNorm1d(2400, eps=1e-05, momentum=0.01, affine=True, track_running_stats=True)\n",
              "  (d7): Dropout(p=0.4, inplace=False)\n",
              "  (fc8): Linear(in_features=2400, out_features=2400, bias=True)\n",
              "  (bn8): BatchNorm1d(2400, eps=1e-05, momentum=0.01, affine=True, track_running_stats=True)\n",
              "  (d8): Dropout(p=0.35, inplace=False)\n",
              "  (fc9): Linear(in_features=2400, out_features=2400, bias=True)\n",
              "  (bn9): BatchNorm1d(2400, eps=1e-05, momentum=0.01, affine=True, track_running_stats=True)\n",
              "  (d9): Dropout(p=0.2, inplace=False)\n",
              "  (fc10): Linear(in_features=2400, out_features=2400, bias=True)\n",
              "  (bn10): BatchNorm1d(2400, eps=1e-05, momentum=0.01, affine=True, track_running_stats=True)\n",
              "  (d10): Dropout(p=0.25, inplace=False)\n",
              "  (fc11): Linear(in_features=2400, out_features=1600, bias=True)\n",
              "  (bn11): BatchNorm1d(1600, eps=1e-05, momentum=0.01, affine=True, track_running_stats=True)\n",
              "  (d11): Dropout(p=0.2, inplace=False)\n",
              "  (fc12): Linear(in_features=1600, out_features=1600, bias=True)\n",
              "  (bn12): BatchNorm1d(1600, eps=1e-05, momentum=0.01, affine=True, track_running_stats=True)\n",
              "  (d12): Dropout(p=0.2, inplace=False)\n",
              "  (fc13): Linear(in_features=1600, out_features=1600, bias=True)\n",
              "  (bn13): BatchNorm1d(1600, eps=1e-05, momentum=0.01, affine=True, track_running_stats=True)\n",
              "  (d13): Dropout(p=0.2, inplace=False)\n",
              "  (fc14): Linear(in_features=1600, out_features=1600, bias=True)\n",
              "  (bn14): BatchNorm1d(1600, eps=1e-05, momentum=0.01, affine=True, track_running_stats=True)\n",
              "  (d14): Dropout(p=0.2, inplace=False)\n",
              "  (fc15): Linear(in_features=1600, out_features=1600, bias=True)\n",
              "  (bn15): BatchNorm1d(1600, eps=1e-05, momentum=0.01, affine=True, track_running_stats=True)\n",
              "  (d15): Dropout(p=0.2, inplace=False)\n",
              "  (out): Linear(in_features=1600, out_features=346, bias=True)\n",
              ")"
            ]
          },
          "metadata": {
            "tags": []
          },
          "execution_count": 47
        }
      ]
    },
    {
      "cell_type": "code",
      "metadata": {
        "Collapsed": "false",
        "id": "A2n2h-ch1Q9r"
      },
      "source": [
        "criterion = nn.CrossEntropyLoss()\n",
        "\n",
        "optimizer = torch.optim.Adam(seq_model.parameters(),lr=1e-4)\n",
        "\n",
        "#scheduler = torch.optim.lr_scheduler.StepLR(optimizer, gamma=0.5, step_size=33)"
      ],
      "execution_count": null,
      "outputs": []
    },
    {
      "cell_type": "code",
      "metadata": {
        "Collapsed": "false",
        "colab": {
          "base_uri": "https://localhost:8080/",
          "height": 816
        },
        "id": "uuEzCbW31Q9t",
        "outputId": "7a598f14-b199-44ac-f2ae-43a193134234"
      },
      "source": [
        "seq_model.parameters"
      ],
      "execution_count": null,
      "outputs": [
        {
          "output_type": "execute_result",
          "data": {
            "text/plain": [
              "<bound method Module.parameters of Model(\n",
              "  (fc1): Linear(in_features=585, out_features=4096, bias=True)\n",
              "  (bn1): BatchNorm1d(4096, eps=1e-05, momentum=0.01, affine=True, track_running_stats=True)\n",
              "  (fc2): Linear(in_features=4096, out_features=4096, bias=True)\n",
              "  (d2): Dropout(p=0.25, inplace=False)\n",
              "  (bn2): BatchNorm1d(4096, eps=1e-05, momentum=0.01, affine=True, track_running_stats=True)\n",
              "  (fc3): Linear(in_features=4096, out_features=2048, bias=True)\n",
              "  (bn3): BatchNorm1d(2048, eps=1e-05, momentum=0.01, affine=True, track_running_stats=True)\n",
              "  (d3): Dropout(p=0.4, inplace=False)\n",
              "  (fc4): Linear(in_features=2048, out_features=2048, bias=True)\n",
              "  (bn4): BatchNorm1d(2048, eps=1e-05, momentum=0.01, affine=True, track_running_stats=True)\n",
              "  (d4): Dropout(p=0.3, inplace=False)\n",
              "  (fc5): Linear(in_features=2048, out_features=2700, bias=True)\n",
              "  (bn5): BatchNorm1d(2700, eps=1e-05, momentum=0.01, affine=True, track_running_stats=True)\n",
              "  (d5): Dropout(p=0.25, inplace=False)\n",
              "  (fc6): Linear(in_features=2700, out_features=2700, bias=True)\n",
              "  (bn6): BatchNorm1d(2700, eps=1e-05, momentum=0.01, affine=True, track_running_stats=True)\n",
              "  (d6): Dropout(p=0.35, inplace=False)\n",
              "  (fc7): Linear(in_features=2700, out_features=2400, bias=True)\n",
              "  (bn7): BatchNorm1d(2400, eps=1e-05, momentum=0.01, affine=True, track_running_stats=True)\n",
              "  (d7): Dropout(p=0.4, inplace=False)\n",
              "  (fc8): Linear(in_features=2400, out_features=2400, bias=True)\n",
              "  (bn8): BatchNorm1d(2400, eps=1e-05, momentum=0.01, affine=True, track_running_stats=True)\n",
              "  (d8): Dropout(p=0.35, inplace=False)\n",
              "  (fc9): Linear(in_features=2400, out_features=2400, bias=True)\n",
              "  (bn9): BatchNorm1d(2400, eps=1e-05, momentum=0.01, affine=True, track_running_stats=True)\n",
              "  (d9): Dropout(p=0.2, inplace=False)\n",
              "  (fc10): Linear(in_features=2400, out_features=2400, bias=True)\n",
              "  (bn10): BatchNorm1d(2400, eps=1e-05, momentum=0.01, affine=True, track_running_stats=True)\n",
              "  (d10): Dropout(p=0.25, inplace=False)\n",
              "  (fc11): Linear(in_features=2400, out_features=1600, bias=True)\n",
              "  (bn11): BatchNorm1d(1600, eps=1e-05, momentum=0.01, affine=True, track_running_stats=True)\n",
              "  (d11): Dropout(p=0.2, inplace=False)\n",
              "  (fc12): Linear(in_features=1600, out_features=1600, bias=True)\n",
              "  (bn12): BatchNorm1d(1600, eps=1e-05, momentum=0.01, affine=True, track_running_stats=True)\n",
              "  (d12): Dropout(p=0.2, inplace=False)\n",
              "  (fc13): Linear(in_features=1600, out_features=1600, bias=True)\n",
              "  (bn13): BatchNorm1d(1600, eps=1e-05, momentum=0.01, affine=True, track_running_stats=True)\n",
              "  (d13): Dropout(p=0.2, inplace=False)\n",
              "  (fc14): Linear(in_features=1600, out_features=1600, bias=True)\n",
              "  (bn14): BatchNorm1d(1600, eps=1e-05, momentum=0.01, affine=True, track_running_stats=True)\n",
              "  (d14): Dropout(p=0.2, inplace=False)\n",
              "  (fc15): Linear(in_features=1600, out_features=1600, bias=True)\n",
              "  (bn15): BatchNorm1d(1600, eps=1e-05, momentum=0.01, affine=True, track_running_stats=True)\n",
              "  (d15): Dropout(p=0.2, inplace=False)\n",
              "  (out): Linear(in_features=1600, out_features=346, bias=True)\n",
              ")>"
            ]
          },
          "metadata": {
            "tags": []
          },
          "execution_count": 50
        }
      ]
    },
    {
      "cell_type": "code",
      "metadata": {
        "Collapsed": "false",
        "id": "DbkAjbfe2iqv"
      },
      "source": [
        "def validation_error(model,criterion,val_loader):\n",
        "    model.eval()\n",
        "    loss = []\n",
        "    for (xii,yii) in val_loader:\n",
        "        output = model.forward(xii)\n",
        "        loss = criterion(output,yii.cuda())\n",
        "    #val_error = np.mean(np.array(loss))\n",
        "    val_error = loss\n",
        "    return val_error"
      ],
      "execution_count": null,
      "outputs": []
    },
    {
      "cell_type": "code",
      "metadata": {
        "Collapsed": "false",
        "id": "kQPPhpkUgnYZ"
      },
      "source": [
        "def Testing_Model(seq_model,test_loader,epoch):\n",
        "  import numpy as np \n",
        "  import torch \n",
        "  import pandas as pd\n",
        "  torch.save(seq_model.state_dict(), f'MyModel_{epoch}.pt')\n",
        "  model2 = Model()\n",
        "  model2.load_state_dict(torch.load(f'MyModel_{epoch}.pt'));\n",
        "  device = torch.device(\"cuda\")\n",
        "  model2.to(device)\n",
        "  model2.eval()\n",
        "  test_preds = []\n",
        "  for (xj,yj) in test_loader:\n",
        "      output = model2.forward(xj)\n",
        "      test_preds.append(np.argmax(output.cpu().detach().numpy(),axis=1))\n",
        "  combined_batches = np.array(test_preds)\n",
        "  Predictions = np.concatenate(combined_batches)\n",
        "  id = [i for i in range(len(Predictions))]\n",
        "  df_pred = pd.DataFrame(data={'id':id,'label':Predictions})\n",
        "  df_pred.to_csv(f'Predictions.csv',index=False)\n",
        "  "
      ],
      "execution_count": null,
      "outputs": []
    },
    {
      "cell_type": "code",
      "metadata": {
        "Collapsed": "false",
        "id": "_SFNHq7C1Q9x"
      },
      "source": [
        "%%time\n",
        "# EPOCHS \n",
        "seq_model.train()\n",
        "epochs = 25\n",
        "losses = []\n",
        "loss = []\n",
        "val_error = []\n",
        "validation_losses = []\n",
        "for i in range(epochs):\n",
        "    losses.append(loss)\n",
        "    validation_losses.append(val_error)\n",
        "    seq_model.train()\n",
        "    print(f'Epoch {i}, loss {loss}, validation loss: {val_error}')\n",
        "    for (xi,yi) in train_loader:\n",
        "        optimizer.zero_grad()\n",
        "        xi = xi.to(device)\n",
        "        yi = yi.to(device)\n",
        "        output = seq_model(xi)\n",
        "        loss = criterion(output,yi)\n",
        "        loss.backward()\n",
        "        optimizer.step()\n",
        "\n",
        "    if (i+1) % 5 == 0:\n",
        "      Testing_Model(seq_model,test_loader,i)\n",
        "    val_error = validation_error(seq_model,criterion,val_loader)"
      ],
      "execution_count": null,
      "outputs": []
    },
    {
      "cell_type": "code",
      "metadata": {
        "Collapsed": "false",
        "id": "KYTCzwMIbsmn"
      },
      "source": [
        "torch.save(seq_model.state_dict(), 'MyModel_V6.pt')"
      ],
      "execution_count": null,
      "outputs": []
    },
    {
      "cell_type": "markdown",
      "metadata": {
        "Collapsed": "false",
        "id": "tgJrRwbq1Q9y"
      },
      "source": [
        "# Predicting on the Test data "
      ]
    },
    {
      "cell_type": "code",
      "metadata": {
        "Collapsed": "false",
        "colab": {
          "base_uri": "https://localhost:8080/",
          "height": 816
        },
        "id": "B7B8uBXT1Q9y",
        "outputId": "9bca5c09-577a-43e3-8779-9284ad015b7a"
      },
      "source": [
        "import numpy as np \n",
        "import torch \n",
        "import pandas as pd\n",
        "model2 = Model()\n",
        "model2.load_state_dict(torch.load(f'MyModel_V11.pt'));\n",
        "model2.eval()"
      ],
      "execution_count": null,
      "outputs": [
        {
          "output_type": "execute_result",
          "data": {
            "text/plain": [
              "Model(\n",
              "  (fc1): Linear(in_features=1001, out_features=4096, bias=True)\n",
              "  (bn1): BatchNorm1d(4096, eps=1e-05, momentum=0.01, affine=True, track_running_stats=True)\n",
              "  (fc2): Linear(in_features=4096, out_features=4096, bias=True)\n",
              "  (d2): Dropout(p=0.25, inplace=False)\n",
              "  (bn2): BatchNorm1d(4096, eps=1e-05, momentum=0.01, affine=True, track_running_stats=True)\n",
              "  (fc3): Linear(in_features=4096, out_features=2048, bias=True)\n",
              "  (bn3): BatchNorm1d(2048, eps=1e-05, momentum=0.01, affine=True, track_running_stats=True)\n",
              "  (d3): Dropout(p=0.4, inplace=False)\n",
              "  (fc4): Linear(in_features=2048, out_features=2048, bias=True)\n",
              "  (bn4): BatchNorm1d(2048, eps=1e-05, momentum=0.01, affine=True, track_running_stats=True)\n",
              "  (d4): Dropout(p=0.3, inplace=False)\n",
              "  (fc5): Linear(in_features=2048, out_features=2700, bias=True)\n",
              "  (bn5): BatchNorm1d(2700, eps=1e-05, momentum=0.01, affine=True, track_running_stats=True)\n",
              "  (d5): Dropout(p=0.25, inplace=False)\n",
              "  (fc6): Linear(in_features=2700, out_features=2700, bias=True)\n",
              "  (bn6): BatchNorm1d(2700, eps=1e-05, momentum=0.01, affine=True, track_running_stats=True)\n",
              "  (d6): Dropout(p=0.35, inplace=False)\n",
              "  (fc7): Linear(in_features=2700, out_features=2400, bias=True)\n",
              "  (bn7): BatchNorm1d(2400, eps=1e-05, momentum=0.01, affine=True, track_running_stats=True)\n",
              "  (d7): Dropout(p=0.4, inplace=False)\n",
              "  (fc8): Linear(in_features=2400, out_features=2400, bias=True)\n",
              "  (bn8): BatchNorm1d(2400, eps=1e-05, momentum=0.01, affine=True, track_running_stats=True)\n",
              "  (d8): Dropout(p=0.35, inplace=False)\n",
              "  (fc9): Linear(in_features=2400, out_features=2400, bias=True)\n",
              "  (bn9): BatchNorm1d(2400, eps=1e-05, momentum=0.01, affine=True, track_running_stats=True)\n",
              "  (d9): Dropout(p=0.2, inplace=False)\n",
              "  (fc10): Linear(in_features=2400, out_features=2400, bias=True)\n",
              "  (bn10): BatchNorm1d(2400, eps=1e-05, momentum=0.01, affine=True, track_running_stats=True)\n",
              "  (d10): Dropout(p=0.25, inplace=False)\n",
              "  (fc11): Linear(in_features=2400, out_features=1600, bias=True)\n",
              "  (bn11): BatchNorm1d(1600, eps=1e-05, momentum=0.01, affine=True, track_running_stats=True)\n",
              "  (d11): Dropout(p=0.2, inplace=False)\n",
              "  (fc12): Linear(in_features=1600, out_features=1600, bias=True)\n",
              "  (bn12): BatchNorm1d(1600, eps=1e-05, momentum=0.01, affine=True, track_running_stats=True)\n",
              "  (d12): Dropout(p=0.2, inplace=False)\n",
              "  (fc13): Linear(in_features=1600, out_features=1600, bias=True)\n",
              "  (bn13): BatchNorm1d(1600, eps=1e-05, momentum=0.01, affine=True, track_running_stats=True)\n",
              "  (d13): Dropout(p=0.2, inplace=False)\n",
              "  (fc14): Linear(in_features=1600, out_features=1600, bias=True)\n",
              "  (bn14): BatchNorm1d(1600, eps=1e-05, momentum=0.01, affine=True, track_running_stats=True)\n",
              "  (d14): Dropout(p=0.2, inplace=False)\n",
              "  (fc15): Linear(in_features=1600, out_features=1600, bias=True)\n",
              "  (bn15): BatchNorm1d(1600, eps=1e-05, momentum=0.01, affine=True, track_running_stats=True)\n",
              "  (d15): Dropout(p=0.2, inplace=False)\n",
              "  (out): Linear(in_features=1600, out_features=346, bias=True)\n",
              ")"
            ]
          },
          "metadata": {
            "tags": []
          },
          "execution_count": 55
        }
      ]
    },
    {
      "cell_type": "code",
      "metadata": {
        "Collapsed": "false",
        "colab": {
          "base_uri": "https://localhost:8080/",
          "height": 816
        },
        "id": "Qu49BECJ1Q9z",
        "outputId": "744a2cfc-d6d7-4813-ca01-fb3ac72df484"
      },
      "source": [
        "device = torch.device(\"cuda\")\n",
        "model2.to(device)"
      ],
      "execution_count": null,
      "outputs": [
        {
          "output_type": "execute_result",
          "data": {
            "text/plain": [
              "Model(\n",
              "  (fc1): Linear(in_features=1001, out_features=4096, bias=True)\n",
              "  (bn1): BatchNorm1d(4096, eps=1e-05, momentum=0.01, affine=True, track_running_stats=True)\n",
              "  (fc2): Linear(in_features=4096, out_features=4096, bias=True)\n",
              "  (d2): Dropout(p=0.25, inplace=False)\n",
              "  (bn2): BatchNorm1d(4096, eps=1e-05, momentum=0.01, affine=True, track_running_stats=True)\n",
              "  (fc3): Linear(in_features=4096, out_features=2048, bias=True)\n",
              "  (bn3): BatchNorm1d(2048, eps=1e-05, momentum=0.01, affine=True, track_running_stats=True)\n",
              "  (d3): Dropout(p=0.4, inplace=False)\n",
              "  (fc4): Linear(in_features=2048, out_features=2048, bias=True)\n",
              "  (bn4): BatchNorm1d(2048, eps=1e-05, momentum=0.01, affine=True, track_running_stats=True)\n",
              "  (d4): Dropout(p=0.3, inplace=False)\n",
              "  (fc5): Linear(in_features=2048, out_features=2700, bias=True)\n",
              "  (bn5): BatchNorm1d(2700, eps=1e-05, momentum=0.01, affine=True, track_running_stats=True)\n",
              "  (d5): Dropout(p=0.25, inplace=False)\n",
              "  (fc6): Linear(in_features=2700, out_features=2700, bias=True)\n",
              "  (bn6): BatchNorm1d(2700, eps=1e-05, momentum=0.01, affine=True, track_running_stats=True)\n",
              "  (d6): Dropout(p=0.35, inplace=False)\n",
              "  (fc7): Linear(in_features=2700, out_features=2400, bias=True)\n",
              "  (bn7): BatchNorm1d(2400, eps=1e-05, momentum=0.01, affine=True, track_running_stats=True)\n",
              "  (d7): Dropout(p=0.4, inplace=False)\n",
              "  (fc8): Linear(in_features=2400, out_features=2400, bias=True)\n",
              "  (bn8): BatchNorm1d(2400, eps=1e-05, momentum=0.01, affine=True, track_running_stats=True)\n",
              "  (d8): Dropout(p=0.35, inplace=False)\n",
              "  (fc9): Linear(in_features=2400, out_features=2400, bias=True)\n",
              "  (bn9): BatchNorm1d(2400, eps=1e-05, momentum=0.01, affine=True, track_running_stats=True)\n",
              "  (d9): Dropout(p=0.2, inplace=False)\n",
              "  (fc10): Linear(in_features=2400, out_features=2400, bias=True)\n",
              "  (bn10): BatchNorm1d(2400, eps=1e-05, momentum=0.01, affine=True, track_running_stats=True)\n",
              "  (d10): Dropout(p=0.25, inplace=False)\n",
              "  (fc11): Linear(in_features=2400, out_features=1600, bias=True)\n",
              "  (bn11): BatchNorm1d(1600, eps=1e-05, momentum=0.01, affine=True, track_running_stats=True)\n",
              "  (d11): Dropout(p=0.2, inplace=False)\n",
              "  (fc12): Linear(in_features=1600, out_features=1600, bias=True)\n",
              "  (bn12): BatchNorm1d(1600, eps=1e-05, momentum=0.01, affine=True, track_running_stats=True)\n",
              "  (d12): Dropout(p=0.2, inplace=False)\n",
              "  (fc13): Linear(in_features=1600, out_features=1600, bias=True)\n",
              "  (bn13): BatchNorm1d(1600, eps=1e-05, momentum=0.01, affine=True, track_running_stats=True)\n",
              "  (d13): Dropout(p=0.2, inplace=False)\n",
              "  (fc14): Linear(in_features=1600, out_features=1600, bias=True)\n",
              "  (bn14): BatchNorm1d(1600, eps=1e-05, momentum=0.01, affine=True, track_running_stats=True)\n",
              "  (d14): Dropout(p=0.2, inplace=False)\n",
              "  (fc15): Linear(in_features=1600, out_features=1600, bias=True)\n",
              "  (bn15): BatchNorm1d(1600, eps=1e-05, momentum=0.01, affine=True, track_running_stats=True)\n",
              "  (d15): Dropout(p=0.2, inplace=False)\n",
              "  (out): Linear(in_features=1600, out_features=346, bias=True)\n",
              ")"
            ]
          },
          "metadata": {
            "tags": []
          },
          "execution_count": 57
        }
      ]
    },
    {
      "cell_type": "code",
      "metadata": {
        "Collapsed": "false",
        "colab": {
          "base_uri": "https://localhost:8080/",
          "height": 34
        },
        "id": "35CAXj5F1Q91",
        "outputId": "0db7a52b-7fd3-429b-c919-3a4ec4f55245"
      },
      "source": [
        "model2.eval()\n",
        "test_preds = []\n",
        "print('Hello')\n",
        "for (xj,yj) in test_loader:\n",
        "    output = model2.forward(xj)\n",
        "    test_preds.append(np.argmax(output.cpu().detach().numpy(),axis=1))"
      ],
      "execution_count": null,
      "outputs": [
        {
          "output_type": "stream",
          "text": [
            "Hello\n"
          ],
          "name": "stdout"
        }
      ]
    },
    {
      "cell_type": "code",
      "metadata": {
        "Collapsed": "false",
        "colab": {
          "base_uri": "https://localhost:8080/",
          "height": 34
        },
        "id": "mfqWQGSw1Q92",
        "outputId": "84f1ba96-63a1-4261-f3f8-2066db272552"
      },
      "source": [
        "np.concatenate(np.array(test_preds)).shape"
      ],
      "execution_count": null,
      "outputs": [
        {
          "output_type": "execute_result",
          "data": {
            "text/plain": [
              "(1593223,)"
            ]
          },
          "metadata": {
            "tags": []
          },
          "execution_count": 62
        }
      ]
    },
    {
      "cell_type": "code",
      "metadata": {
        "Collapsed": "false",
        "colab": {
          "base_uri": "https://localhost:8080/",
          "height": 34
        },
        "id": "qGHIkb7E1Q93",
        "outputId": "4e165a8e-94ab-490f-c5d4-c281b146125c"
      },
      "source": [
        "combined_batches = np.array(test_preds)\n",
        "combined_batches.shape"
      ],
      "execution_count": null,
      "outputs": [
        {
          "output_type": "execute_result",
          "data": {
            "text/plain": [
              "(1556,)"
            ]
          },
          "metadata": {
            "tags": []
          },
          "execution_count": 64
        }
      ]
    },
    {
      "cell_type": "code",
      "metadata": {
        "Collapsed": "false",
        "colab": {
          "base_uri": "https://localhost:8080/",
          "height": 34
        },
        "id": "liTf-D7a1Q93",
        "outputId": "376cac94-c12c-4496-ba4d-3004fe8f3fc9"
      },
      "source": [
        "Predictions = np.concatenate(combined_batches)\n",
        "Predictions.shape"
      ],
      "execution_count": null,
      "outputs": [
        {
          "output_type": "execute_result",
          "data": {
            "text/plain": [
              "(1593223,)"
            ]
          },
          "metadata": {
            "tags": []
          },
          "execution_count": 66
        }
      ]
    },
    {
      "cell_type": "code",
      "metadata": {
        "Collapsed": "false",
        "id": "yUhHH-Am1Q94"
      },
      "source": [
        "id = [i for i in range(len(Predictions))]"
      ],
      "execution_count": null,
      "outputs": []
    },
    {
      "cell_type": "code",
      "metadata": {
        "Collapsed": "false",
        "colab": {
          "base_uri": "https://localhost:8080/",
          "height": 419
        },
        "id": "Z4yNt0oG1Q95",
        "outputId": "d7e8b135-de82-486c-fd82-1db387e2b724"
      },
      "source": [
        "df_pred = pd.DataFrame(data={'id':id,'label':Predictions})\n",
        "df_pred"
      ],
      "execution_count": null,
      "outputs": [
        {
          "output_type": "execute_result",
          "data": {
            "text/html": [
              "<div>\n",
              "<style scoped>\n",
              "    .dataframe tbody tr th:only-of-type {\n",
              "        vertical-align: middle;\n",
              "    }\n",
              "\n",
              "    .dataframe tbody tr th {\n",
              "        vertical-align: top;\n",
              "    }\n",
              "\n",
              "    .dataframe thead th {\n",
              "        text-align: right;\n",
              "    }\n",
              "</style>\n",
              "<table border=\"1\" class=\"dataframe\">\n",
              "  <thead>\n",
              "    <tr style=\"text-align: right;\">\n",
              "      <th></th>\n",
              "      <th>id</th>\n",
              "      <th>label</th>\n",
              "    </tr>\n",
              "  </thead>\n",
              "  <tbody>\n",
              "    <tr>\n",
              "      <th>0</th>\n",
              "      <td>0</td>\n",
              "      <td>1</td>\n",
              "    </tr>\n",
              "    <tr>\n",
              "      <th>1</th>\n",
              "      <td>1</td>\n",
              "      <td>1</td>\n",
              "    </tr>\n",
              "    <tr>\n",
              "      <th>2</th>\n",
              "      <td>2</td>\n",
              "      <td>1</td>\n",
              "    </tr>\n",
              "    <tr>\n",
              "      <th>3</th>\n",
              "      <td>3</td>\n",
              "      <td>1</td>\n",
              "    </tr>\n",
              "    <tr>\n",
              "      <th>4</th>\n",
              "      <td>4</td>\n",
              "      <td>1</td>\n",
              "    </tr>\n",
              "    <tr>\n",
              "      <th>...</th>\n",
              "      <td>...</td>\n",
              "      <td>...</td>\n",
              "    </tr>\n",
              "    <tr>\n",
              "      <th>1593218</th>\n",
              "      <td>1593218</td>\n",
              "      <td>1</td>\n",
              "    </tr>\n",
              "    <tr>\n",
              "      <th>1593219</th>\n",
              "      <td>1593219</td>\n",
              "      <td>1</td>\n",
              "    </tr>\n",
              "    <tr>\n",
              "      <th>1593220</th>\n",
              "      <td>1593220</td>\n",
              "      <td>1</td>\n",
              "    </tr>\n",
              "    <tr>\n",
              "      <th>1593221</th>\n",
              "      <td>1593221</td>\n",
              "      <td>1</td>\n",
              "    </tr>\n",
              "    <tr>\n",
              "      <th>1593222</th>\n",
              "      <td>1593222</td>\n",
              "      <td>1</td>\n",
              "    </tr>\n",
              "  </tbody>\n",
              "</table>\n",
              "<p>1593223 rows × 2 columns</p>\n",
              "</div>"
            ],
            "text/plain": [
              "              id  label\n",
              "0              0      1\n",
              "1              1      1\n",
              "2              2      1\n",
              "3              3      1\n",
              "4              4      1\n",
              "...          ...    ...\n",
              "1593218  1593218      1\n",
              "1593219  1593219      1\n",
              "1593220  1593220      1\n",
              "1593221  1593221      1\n",
              "1593222  1593222      1\n",
              "\n",
              "[1593223 rows x 2 columns]"
            ]
          },
          "metadata": {
            "tags": []
          },
          "execution_count": 69
        }
      ]
    },
    {
      "cell_type": "code",
      "metadata": {
        "Collapsed": "false",
        "id": "cYDnRoc41Q96"
      },
      "source": [
        "df_pred.to_csv(f'Predictions.csv',index=False)"
      ],
      "execution_count": null,
      "outputs": []
    },
    {
      "cell_type": "markdown",
      "metadata": {
        "Collapsed": "false",
        "id": "rhRAaPYM1Q97"
      },
      "source": [
        "# Evaluating Training losses "
      ]
    },
    {
      "cell_type": "code",
      "metadata": {
        "Collapsed": "false",
        "id": "fq2kqF8G1Q97"
      },
      "source": [
        "losses = losses[1:]"
      ],
      "execution_count": null,
      "outputs": []
    },
    {
      "cell_type": "code",
      "metadata": {
        "Collapsed": "false",
        "id": "7fMqgIzc1Q98",
        "outputId": "795a726a-bea2-4986-ea6c-e6d0091df88f"
      },
      "source": [
        "import seaborn as sns\n",
        "#sns.set_style('DarkGrid')\n",
        "plt.plot(losses,'--')\n",
        "plt.xlabel('Epochs')\n",
        "plt.ylabel('CrossEntropyLoss')"
      ],
      "execution_count": null,
      "outputs": [
        {
          "output_type": "execute_result",
          "data": {
            "text/plain": [
              "Text(0, 0.5, 'CrossEntropyLoss')"
            ]
          },
          "metadata": {
            "tags": []
          },
          "execution_count": 113
        },
        {
          "output_type": "display_data",
          "data": {
            "image/png": "[encoded data removed]",
            "text/plain": [
              "<Figure size 432x288 with 1 Axes>"
            ]
          },
          "metadata": {
            "tags": [],
            "needs_background": "light"
          }
        }
      ]
    }
  ]
}